{
 "cells": [
  {
   "cell_type": "code",
   "execution_count": 1,
   "metadata": {
    "ExecuteTime": {
     "end_time": "2021-02-02T13:59:39.378532Z",
     "start_time": "2021-02-02T13:59:24.357842Z"
    },
    "scrolled": true
   },
   "outputs": [],
   "source": [
    "from RandomTesting.__RandomTesting__ import Random_Testing, calculate_extract_loss\n",
    "from tqdm import tqdm\n",
    "from sklearn import neighbors\n",
    "from pykrige.ok import OrdinaryKriging\n",
    "import tensorflow.compat.v1 as tf\n",
    "import matplotlib.pyplot as plt\n",
    "import numpy as np\n",
    "import warnings\n",
    "import os\n",
    "import pandas as pd\n",
    "import gc\n",
    "\n",
    "\n",
    "warnings.filterwarnings('ignore')\n",
    "os.environ[\"CUDA_VISIBLE_DEVICES\"] = \"\"\n",
    "tf.config.optimizer.set_jit(True)"
   ]
  },
  {
   "cell_type": "markdown",
   "metadata": {},
   "source": [
    "# Kriging Random Testing "
   ]
  },
  {
   "cell_type": "code",
   "execution_count": 4,
   "metadata": {
    "ExecuteTime": {
     "end_time": "2021-02-03T07:38:06.164427Z",
     "start_time": "2021-02-03T01:13:46.396965Z"
    },
    "scrolled": true
   },
   "outputs": [
    {
     "name": "stderr",
     "output_type": "stream",
     "text": [
      "100%|██████████| 3000/3000 [12:54<00:00,  3.37it/s]\n",
      "100%|██████████| 3000/3000 [12:46<00:00,  3.56it/s]\n",
      "100%|██████████| 3000/3000 [12:44<00:00,  3.33it/s]\n",
      "100%|██████████| 3000/3000 [12:52<00:00,  3.67it/s]\n",
      "100%|██████████| 3000/3000 [12:37<00:00,  3.66it/s]\n",
      "100%|██████████| 3000/3000 [12:43<00:00,  4.33it/s]\n",
      "100%|██████████| 3000/3000 [12:32<00:00,  4.27it/s]\n",
      "100%|██████████| 3000/3000 [12:29<00:00,  3.13it/s]\n",
      "100%|██████████| 3000/3000 [12:24<00:00,  3.40it/s]\n",
      "100%|██████████| 3000/3000 [12:27<00:00,  4.28it/s]\n",
      "100%|██████████| 3000/3000 [12:27<00:00,  4.66it/s]\n",
      "100%|██████████| 3000/3000 [12:28<00:00,  4.54it/s]\n",
      "100%|██████████| 3000/3000 [12:27<00:00,  4.63it/s]\n",
      "100%|██████████| 3000/3000 [12:25<00:00,  3.92it/s]\n",
      "100%|██████████| 3000/3000 [12:26<00:00,  3.95it/s]\n",
      "100%|██████████| 3000/3000 [12:20<00:00,  4.54it/s]\n",
      "100%|██████████| 3000/3000 [12:39<00:00,  4.24it/s]\n",
      "100%|██████████| 3000/3000 [12:35<00:00,  3.73it/s]\n",
      "100%|██████████| 3000/3000 [12:35<00:00,  3.75it/s]\n",
      "100%|██████████| 3000/3000 [12:28<00:00,  3.62it/s]\n",
      "100%|██████████| 3000/3000 [12:23<00:00,  4.20it/s]\n",
      "100%|██████████| 3000/3000 [12:39<00:00,  4.19it/s]\n",
      "100%|██████████| 3000/3000 [12:23<00:00,  4.65it/s]\n",
      "100%|██████████| 3000/3000 [12:38<00:00,  3.48it/s]\n",
      "100%|██████████| 3000/3000 [12:21<00:00,  4.25it/s]\n",
      "100%|██████████| 3000/3000 [12:14<00:00,  3.66it/s]\n",
      "100%|██████████| 3000/3000 [12:17<00:00,  4.09it/s]\n",
      "100%|██████████| 3000/3000 [12:24<00:00,  3.90it/s]\n",
      "100%|██████████| 3000/3000 [12:32<00:00,  4.00it/s]\n",
      "100%|██████████| 3000/3000 [12:14<00:00,  4.03it/s]\n"
     ]
    },
    {
     "name": "stdout",
     "output_type": "stream",
     "text": [
      "52.968515000000004\n",
      "32.53287000000001\n",
      "41.35142566666666\n",
      "21.033592287729544\n",
      "4.586239449454154\n"
     ]
    }
   ],
   "source": [
    "# 2021/02/02 OK\n",
    "extract_station_nb = 4 #1,2,3,4\n",
    "\n",
    "EPA73_test_pm25 = np.load('../EPA73_Testing_348X204_PM25.npy', mmap_mode='r')\n",
    "station_coordinate = pd.read_csv('RandomTesting/station_coordinate')\n",
    "ex5_lst = np.load('RandomTesting/extract5_list.npy')\n",
    "ex10_lst = np.load('RandomTesting/extract10_list.npy')\n",
    "ex15_lst = np.load('RandomTesting/extract15_list.npy')\n",
    "ex20_lst = np.load('RandomTesting/extract20_list.npy')\n",
    "\n",
    "grid_lon = np.array(np.arange(204),dtype='float32')\n",
    "grid_lat = np.array(np.arange(348),dtype='float32') \n",
    "\n",
    "total_mse, total_mae, total_mape = ([] for _ in range(3))\n",
    "\n",
    "for qq in range(30):\n",
    "    matrix20,lats_ex20,lons_ex20=Random_Testing(extract_station_nb, qq, station_coordinate, EPA73_test_pm25, \n",
    "                                                ex5_lst, ex10_lst, ex15_lst, ex20_lst)\n",
    "    total_result = []\n",
    "    for i in tqdm(range(matrix20.shape[0])):\n",
    "        value_lst = [] \n",
    "\n",
    "        lat_all = (np.where(matrix20[i,:,:,0] != 0)[0])\n",
    "        lon_all = (np.where(matrix20[i,:,:,0] != 0)[1])\n",
    "        \n",
    "        for lat, lon in zip(lat_all, lon_all): value_lst.append(matrix20[i,lat,lon,0])\n",
    "\n",
    "        matrix_lon_array = np.array(lon_all,dtype='float32')\n",
    "        matrix_lat_array = np.array(lat_all,dtype='float32')       \n",
    "        train_x = np.array(np.vstack((matrix_lon_array,matrix_lat_array)).T,dtype='float32')    \n",
    "        train_y = np.array(value_lst,dtype='float32')\n",
    "\n",
    "        OK = OrdinaryKriging(train_x[:,0], train_x[:,1], train_y, variogram_model='linear',\n",
    "                             verbose=False, nlags=50, weight=True, exact_values=False, pseudo_inv=True)\n",
    "\n",
    "        values, ss1 = OK.execute('grid', grid_lon, grid_lat)\n",
    "        total_result.append(values)\n",
    "        \n",
    "    mse,mae,mape = calculate_extract_loss(np.array(total_result),EPA73_test_pm25[:,:,:,0],lats_ex20,lons_ex20)\n",
    "    total_mse.append(mse)\n",
    "    total_mae.append(mae)\n",
    "    total_mape.append(mape)\n",
    "\n",
    "print(np.array(total_mse).max())\n",
    "print(np.array(total_mse).min())\n",
    "print(np.array(total_mse).mean())\n",
    "print(np.array(total_mse).var())\n",
    "print(np.array(total_mse).std())"
   ]
  },
  {
   "cell_type": "code",
   "execution_count": null,
   "metadata": {},
   "outputs": [],
   "source": []
  }
 ],
 "metadata": {
  "kernelspec": {
   "display_name": "Python 3",
   "language": "python",
   "name": "python3"
  },
  "language_info": {
   "codemirror_mode": {
    "name": "ipython",
    "version": 3
   },
   "file_extension": ".py",
   "mimetype": "text/x-python",
   "name": "python",
   "nbconvert_exporter": "python",
   "pygments_lexer": "ipython3",
   "version": "3.6.8"
  },
  "varInspector": {
   "cols": {
    "lenName": 16,
    "lenType": 16,
    "lenVar": 40
   },
   "kernels_config": {
    "python": {
     "delete_cmd_postfix": "",
     "delete_cmd_prefix": "del ",
     "library": "var_list.py",
     "varRefreshCmd": "print(var_dic_list())"
    },
    "r": {
     "delete_cmd_postfix": ") ",
     "delete_cmd_prefix": "rm(",
     "library": "var_list.r",
     "varRefreshCmd": "cat(var_dic_list()) "
    }
   },
   "types_to_exclude": [
    "module",
    "function",
    "builtin_function_or_method",
    "instance",
    "_Feature"
   ],
   "window_display": false
  }
 },
 "nbformat": 4,
 "nbformat_minor": 2
}
