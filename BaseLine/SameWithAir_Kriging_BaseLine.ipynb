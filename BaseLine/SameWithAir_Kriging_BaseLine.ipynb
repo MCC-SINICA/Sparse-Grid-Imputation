{
 "cells": [
  {
   "cell_type": "code",
   "execution_count": null,
   "metadata": {
    "ExecuteTime": {
     "end_time": "2020-12-29T15:03:16.694179Z",
     "start_time": "2020-12-29T15:03:13.327055Z"
    },
    "scrolled": true
   },
   "outputs": [],
   "source": [
    "from RandomTesting.__RandomTesting__ import Random_Testing, calculate_extract_loss\n",
    "from tqdm import tqdm\n",
    "from sklearn import neighbors\n",
    "from pykrige.ok import OrdinaryKriging\n",
    "import tensorflow.compat.v1 as tf\n",
    "import matplotlib.pyplot as plt\n",
    "import numpy as np\n",
    "import warnings\n",
    "import os\n",
    "import pandas as pd\n",
    "import gc\n",
    "\n",
    "\n",
    "warnings.filterwarnings('ignore')\n",
    "os.environ[\"CUDA_VISIBLE_DEVICES\"] = \"\"\n",
    "tf.config.optimizer.set_jit(True)"
   ]
  },
  {
   "cell_type": "markdown",
   "metadata": {},
   "source": [
    "# Kriging Random Testing "
   ]
  },
  {
   "cell_type": "code",
   "execution_count": null,
   "metadata": {
    "ExecuteTime": {
     "end_time": "2020-12-30T11:59:31.817564Z",
     "start_time": "2020-12-29T15:03:16.697951Z"
    },
    "scrolled": true
   },
   "outputs": [],
   "source": [
    "extract_station_nb = 1 #1,2,3,4\n",
    "\n",
    "EPA73_test_pm25 = np.load('../EPA73_Testing_348X204_PM25.npy', mmap_mode='r')\n",
    "station_coordinate = pd.read_csv('RandomTesting/station_coordinate')\n",
    "ex5_lst = np.load('RandomTesting/extract5_list.npy')\n",
    "ex10_lst = np.load('RandomTesting/extract10_list.npy')\n",
    "ex15_lst = np.load('RandomTesting/extract15_list.npy')\n",
    "ex20_lst = np.load('RandomTesting/extract20_list.npy')\n",
    "\n",
    "grid_lon = np.array(np.arange(204),dtype='float32')\n",
    "grid_lat = np.array(np.arange(348),dtype='float32') \n",
    "\n",
    "total_mse, total_mae, total_mape = ([] for _ in range(3))\n",
    "\n",
    "for qq in range(30):\n",
    "    matrix20,lats_ex20,lons_ex20=Random_Testing(extract_station_nb, qq, station_coordinate, EPA73_test_pm25, \n",
    "                                                ex5_lst, ex10_lst, ex15_lst, ex20_lst)\n",
    "    total_result = []\n",
    "    for i in tqdm(range(matrix20.shape[0])):\n",
    "        value_lst = [] \n",
    "\n",
    "        lat_all = (np.where(matrix20[i,:,:,0] != 0)[0])\n",
    "        lon_all = (np.where(matrix20[i,:,:,0] != 0)[1])\n",
    "        \n",
    "        for lat, lon in zip(lat_all, lon_all): value_lst.append(matrix20[i,lat,lon,0])\n",
    "\n",
    "        matrix_lon_array = np.array(lon_all,dtype='float32')\n",
    "        matrix_lat_array = np.array(lat_all,dtype='float32')       \n",
    "        train_x = np.array(np.vstack((matrix_lon_array,matrix_lat_array)).T,dtype='float32')    \n",
    "        train_y = np.array(value_lst,dtype='float32')\n",
    "\n",
    "        OK = OrdinaryKriging(train_x[:,0], train_x[:,1], train_y, variogram_model='linear', weight = True,\n",
    "                             exact_values = False, verbose=False)\n",
    "\n",
    "        values, ss1 = OK.execute('grid', grid_lon, grid_lat)\n",
    "        total_result.append(values)\n",
    "        \n",
    "    mse,mae,mape = calculate_extract_loss(np.array(total_result),EPA73_test_pm25[:,:,:,0],lats_ex20,lons_ex20)\n",
    "    total_mse.append(mse)\n",
    "    total_mae.append(mae)\n",
    "    total_mape.append(mape)\n",
    "\n",
    "print(np.array(total_mse).max())\n",
    "print(np.array(total_mse).min())\n",
    "print(np.array(total_mse).mean())\n",
    "print(np.array(total_mse).var())\n",
    "print(np.array(total_mse).std())"
   ]
  }
 ],
 "metadata": {
  "kernelspec": {
   "display_name": "Python 3",
   "language": "python",
   "name": "python3"
  },
  "language_info": {
   "codemirror_mode": {
    "name": "ipython",
    "version": 3
   },
   "file_extension": ".py",
   "mimetype": "text/x-python",
   "name": "python",
   "nbconvert_exporter": "python",
   "pygments_lexer": "ipython3",
   "version": "3.6.8"
  },
  "varInspector": {
   "cols": {
    "lenName": 16,
    "lenType": 16,
    "lenVar": 40
   },
   "kernels_config": {
    "python": {
     "delete_cmd_postfix": "",
     "delete_cmd_prefix": "del ",
     "library": "var_list.py",
     "varRefreshCmd": "print(var_dic_list())"
    },
    "r": {
     "delete_cmd_postfix": ") ",
     "delete_cmd_prefix": "rm(",
     "library": "var_list.r",
     "varRefreshCmd": "cat(var_dic_list()) "
    }
   },
   "types_to_exclude": [
    "module",
    "function",
    "builtin_function_or_method",
    "instance",
    "_Feature"
   ],
   "window_display": false
  }
 },
 "nbformat": 4,
 "nbformat_minor": 2
}
