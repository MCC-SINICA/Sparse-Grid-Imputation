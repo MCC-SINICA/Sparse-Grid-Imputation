{
 "cells": [
  {
   "cell_type": "code",
   "execution_count": null,
   "metadata": {
    "ExecuteTime": {
     "end_time": "2021-01-31T09:45:32.441823Z",
     "start_time": "2021-01-31T09:45:21.658103Z"
    }
   },
   "outputs": [],
   "source": [
    "from RandomTesting.__RandomTesting__ import Random_Testing, calculate_extract_loss\n",
    "from sklearn import neighbors\n",
    "from tqdm import tqdm\n",
    "import numpy as np\n",
    "import pandas as pd\n",
    "import gc"
   ]
  },
  {
   "cell_type": "markdown",
   "metadata": {},
   "source": [
    "# Load Data"
   ]
  },
  {
   "cell_type": "code",
   "execution_count": null,
   "metadata": {
    "ExecuteTime": {
     "end_time": "2021-01-31T09:46:11.967651Z",
     "start_time": "2021-01-31T09:46:11.851833Z"
    }
   },
   "outputs": [],
   "source": [
    "# 2021/02/02 OK\n",
    "\n",
    "sta_lat=[9,61,66,70,70,74,74,76,77,81,81,82,87,89,89,\n",
    "         102,112,118,118,125,144,160,160,169,185,185,\n",
    "         189,189,189,205,206,210,211,220,223,227,229,\n",
    "         230,236,239,252,270,277,283,288,288,294,300,\n",
    "         304,309,309,311,312,313,315,315,316,317,317,\n",
    "         318,319,320,320,320,320,320,321,321,324,326,\n",
    "         330,331,332]\n",
    "\n",
    "sta_lon=[79,42,57,34,43,31,32,36,29,30,49,34,33,31,116,\n",
    "         54,21,22,117,30,32,25,45,35,21,55,26,35,68,69,\n",
    "         41,97,160,55,68,47,65,62,57,75,76,83,180,90,109,\n",
    "         175,98,122,104,121,123,154,146,131,146,152,153,\n",
    "         109,144,151,158,121,149,152,153,165,137,150,152,\n",
    "         177,145,169,153]\n",
    "\n",
    "EPA73_test_pm25 = np.load('EPA73_Testing_348X204_PM25.npy', mmap_mode='r')\n",
    "station_coordinate = pd.read_csv('RandomTesting/station_coordinate')\n",
    "ex5_lst = np.load('RandomTesting/extract5_list.npy')\n",
    "ex10_lst = np.load('RandomTesting/extract10_list.npy')\n",
    "ex15_lst = np.load('RandomTesting/extract15_list.npy')\n",
    "ex20_lst = np.load('RandomTesting/extract20_list.npy')"
   ]
  },
  {
   "cell_type": "markdown",
   "metadata": {},
   "source": [
    "# Make KNN File"
   ]
  },
  {
   "cell_type": "code",
   "execution_count": null,
   "metadata": {
    "ExecuteTime": {
     "end_time": "2021-01-02T07:30:41.445291Z",
     "start_time": "2020-12-31T03:56:04.682903Z"
    },
    "scrolled": true
   },
   "outputs": [],
   "source": [
    "K_nb = 7\n",
    "for extract_nb in range(1,5):\n",
    "    EPA73_test_fill=[]\n",
    "    for qq in range(30):\n",
    "        matrix20, lats_ex20, lons_ex20 = Random_Testing(extract_nb, qq, station_coordinate, EPA73_test_pm25, \n",
    "                                                        ex5_lst, ex10_lst, ex15_lst, ex20_lst)\n",
    "\n",
    "        total_result = []\n",
    "        test_x = ([[i,j] for i in range(348) for j in range(204)])\n",
    "        input_data = matrix20\n",
    "        for i in tqdm(range(input_data.shape[0])):\n",
    "            value_lst, result = ([] for _ in range(2))\n",
    "\n",
    "            lat_all = (np.where(input_data[i,:,:,0] != 0)[0])\n",
    "            lon_all = (np.where(input_data[i,:,:,0] != 0)[1])\n",
    "\n",
    "            for lat, lon in zip(lat_all, lon_all): value_lst.append(input_data[i,lat,lon,0])\n",
    "\n",
    "            train_x = np.vstack((lat_all,lon_all)).T\n",
    "            train_y = np.array(value_lst,dtype='float32')\n",
    "\n",
    "            knn = neighbors.KNeighborsRegressor(K_nb, weights = 'distance')\n",
    "\n",
    "            knn_fit = knn.fit(train_x, train_y)\n",
    "            test_y = knn_fit.predict(test_x)\n",
    "            for k in range(348): result.append(test_y[k*204:(k+1)*204])\n",
    "\n",
    "            total_result.append(result)\n",
    "            \n",
    "            del result, test_y\n",
    "            gc.collect()\n",
    "        EPA73_test_fill.append(total_result)\n",
    "    np.save('EPA73_testing_KNN'+str(K_nb)+'fill_ex'+str(extract_nb*5)+'_without_mou',EPA73_test_fill)\n",
    "    print('*'*50)\n",
    "    del EPA73_test_fill, matrix20"
   ]
  },
  {
   "cell_type": "markdown",
   "metadata": {},
   "source": [
    "# KNN3 BaseLine"
   ]
  },
  {
   "cell_type": "code",
   "execution_count": 24,
   "metadata": {
    "ExecuteTime": {
     "end_time": "2021-01-31T17:21:34.748809Z",
     "start_time": "2021-01-31T17:21:33.528221Z"
    }
   },
   "outputs": [],
   "source": [
    "ex5_KNN = np.load('EPA73_testing_KNN7fill_ex5_without_mou.npy', mmap_mode='r')\n",
    "ex10_KNN = np.load('EPA73_testing_KNN7fill_ex10_without_mou.npy', mmap_mode='r')\n",
    "ex15_KNN = np.load('EPA73_testing_KNN7fill_ex15_without_mou.npy', mmap_mode='r')\n",
    "ex20_KNN = np.load('EPA73_testing_KNN7fill_ex20_without_mou.npy', mmap_mode='r')"
   ]
  },
  {
   "cell_type": "code",
   "execution_count": 28,
   "metadata": {
    "ExecuteTime": {
     "end_time": "2021-01-31T19:07:19.666918Z",
     "start_time": "2021-01-31T18:43:41.503780Z"
    },
    "scrolled": true
   },
   "outputs": [
    {
     "name": "stderr",
     "output_type": "stream",
     "text": [
      "100%|██████████| 30/30 [23:38<00:00, 62.49s/it]"
     ]
    },
    {
     "name": "stdout",
     "output_type": "stream",
     "text": [
      "max:  113.2738\n",
      "min:  23.1724\n",
      "mean: 42.847016666666654\n",
      "var:  503.4674577087223\n",
      "std:  22.43808052638911\n"
     ]
    },
    {
     "name": "stderr",
     "output_type": "stream",
     "text": [
      "\n"
     ]
    }
   ],
   "source": [
    "total_mse, total_mae, total_mape = ([] for _ in range(3))\n",
    "for i in tqdm(range(30)):\n",
    "    _ ,lats_ex5,lons_ex5=Random_Testing(1,i,station_coordinate, EPA73_test_pm25, ex5_lst, ex10_lst, ex15_lst, ex20_lst)\n",
    "    mse, mae, mape = calculate_extract_loss(ex5_KNN[i], EPA73_test_pm25[:,:,:,0], lats_ex5, lons_ex5)\n",
    "    total_mse.append(mse)\n",
    "    total_mae.append(mae)\n",
    "    total_mape.append(mape)\n",
    "print('max:  '+str(np.round(np.array(total_mse),4).max()))\n",
    "print('min:  '+str(np.round(np.array(total_mse),4).min()))\n",
    "print('mean: '+str(np.round(np.array(total_mse),4).mean()))\n",
    "print('var:  '+str(np.round(np.array(total_mse),4).var()))\n",
    "print('std:  '+str(np.round(np.array(total_mse),4).std()))"
   ]
  },
  {
   "cell_type": "code",
   "execution_count": 27,
   "metadata": {
    "ExecuteTime": {
     "end_time": "2021-01-31T18:43:39.589216Z",
     "start_time": "2021-01-31T18:17:51.028830Z"
    },
    "scrolled": true
   },
   "outputs": [
    {
     "name": "stderr",
     "output_type": "stream",
     "text": [
      "100%|██████████| 30/30 [25:48<00:00, 54.49s/it]"
     ]
    },
    {
     "name": "stdout",
     "output_type": "stream",
     "text": [
      "max:  87.343\n",
      "min:  25.9978\n",
      "mean: 37.273726666666676\n",
      "var:  228.48376763662225\n",
      "std:  15.115679529436388\n"
     ]
    },
    {
     "name": "stderr",
     "output_type": "stream",
     "text": [
      "\n"
     ]
    }
   ],
   "source": [
    "total_mse, total_mae, total_mape = ([] for _ in range(3))\n",
    "for i in tqdm(range(30)):\n",
    "    _ ,lats_ex10,lons_ex10=Random_Testing(2,i,station_coordinate, EPA73_test_pm25, ex5_lst, ex10_lst, ex15_lst, ex20_lst)\n",
    "    mse, mae, mape = calculate_extract_loss(ex10_KNN[i], EPA73_test_pm25[:,:,:,0], lats_ex10, lons_ex10)\n",
    "    total_mse.append(mse)\n",
    "    total_mae.append(mae)\n",
    "    total_mape.append(mape)\n",
    "print('max:  '+str(np.round(np.array(total_mse),4).max()))\n",
    "print('min:  '+str(np.round(np.array(total_mse),4).min()))\n",
    "print('mean: '+str(np.round(np.array(total_mse),4).mean()))\n",
    "print('var:  '+str(np.round(np.array(total_mse),4).var()))\n",
    "print('std:  '+str(np.round(np.array(total_mse),4).std()))"
   ]
  },
  {
   "cell_type": "code",
   "execution_count": 26,
   "metadata": {
    "ExecuteTime": {
     "end_time": "2021-01-31T18:17:50.786437Z",
     "start_time": "2021-01-31T17:48:11.351797Z"
    },
    "scrolled": true
   },
   "outputs": [
    {
     "name": "stderr",
     "output_type": "stream",
     "text": [
      "100%|██████████| 30/30 [29:39<00:00, 51.82s/it]"
     ]
    },
    {
     "name": "stdout",
     "output_type": "stream",
     "text": [
      "max:  68.7478\n",
      "min:  30.1125\n",
      "mean: 40.52830666666667\n",
      "var:  88.97460557062223\n",
      "std:  9.432635133970901\n"
     ]
    },
    {
     "name": "stderr",
     "output_type": "stream",
     "text": [
      "\n"
     ]
    }
   ],
   "source": [
    "total_mse, total_mae, total_mape = ([] for _ in range(3))\n",
    "for i in tqdm(range(30)):\n",
    "    _ ,lats_ex15,lons_ex15=Random_Testing(3,i,station_coordinate, EPA73_test_pm25, ex5_lst, ex10_lst, ex15_lst, ex20_lst)\n",
    "    mse, mae, mape = calculate_extract_loss(ex15_KNN[i], EPA73_test_pm25[:,:,:,0], lats_ex15, lons_ex15)\n",
    "    total_mse.append(mse)\n",
    "    total_mae.append(mae)\n",
    "    total_mape.append(mape)\n",
    "print('max:  '+str(np.round(np.array(total_mse),4).max()))\n",
    "print('min:  '+str(np.round(np.array(total_mse),4).min()))\n",
    "print('mean: '+str(np.round(np.array(total_mse),4).mean()))\n",
    "print('var:  '+str(np.round(np.array(total_mse),4).var()))\n",
    "print('std:  '+str(np.round(np.array(total_mse),4).std()))"
   ]
  },
  {
   "cell_type": "code",
   "execution_count": 25,
   "metadata": {
    "ExecuteTime": {
     "end_time": "2021-01-31T17:48:10.421968Z",
     "start_time": "2021-01-31T17:21:36.967514Z"
    },
    "scrolled": true
   },
   "outputs": [
    {
     "name": "stderr",
     "output_type": "stream",
     "text": [
      "100%|██████████| 30/30 [26:33<00:00, 51.06s/it]"
     ]
    },
    {
     "name": "stdout",
     "output_type": "stream",
     "text": [
      "max:  63.0025\n",
      "min:  30.8471\n",
      "mean: 45.06712666666667\n",
      "var:  90.46209921462221\n",
      "std:  9.511156565561425\n"
     ]
    },
    {
     "name": "stderr",
     "output_type": "stream",
     "text": [
      "\n"
     ]
    }
   ],
   "source": [
    "total_mse, total_mae, total_mape = ([] for _ in range(3))\n",
    "for i in tqdm(range(30)):\n",
    "    _ ,lats_ex20,lons_ex20=Random_Testing(4,i,station_coordinate, EPA73_test_pm25, ex5_lst, ex10_lst, ex15_lst, ex20_lst)\n",
    "    mse, mae, mape = calculate_extract_loss(ex20_KNN[i], EPA73_test_pm25[:,:,:,0], lats_ex20, lons_ex20)\n",
    "    total_mse.append(mse)\n",
    "    total_mae.append(mae)\n",
    "    total_mape.append(mape)\n",
    "print('max:  '+str(np.round(np.array(total_mse),4).max()))\n",
    "print('min:  '+str(np.round(np.array(total_mse),4).min()))\n",
    "print('mean: '+str(np.round(np.array(total_mse),4).mean()))\n",
    "print('var:  '+str(np.round(np.array(total_mse),4).var()))\n",
    "print('std:  '+str(np.round(np.array(total_mse),4).std()))"
   ]
  },
  {
   "cell_type": "markdown",
   "metadata": {},
   "source": [
    "# KNN5 BaseLine"
   ]
  },
  {
   "cell_type": "code",
   "execution_count": null,
   "metadata": {
    "ExecuteTime": {
     "end_time": "2020-12-28T13:10:08.784128Z",
     "start_time": "2020-12-28T13:10:08.711650Z"
    }
   },
   "outputs": [],
   "source": [
    "EPA73_test_pm25 = np.load('../Data/EPA73_Testing_348X204_PM25.npy', mmap_mode='r')[:3000]\n",
    "ex5_KNN = np.load('EPA73_testing_KNN5fill_ex5_without_mou.npy', mmap_mode='r')\n",
    "ex10_KNN = np.load('EPA73_testing_KNN5fill_ex10_without_mou.npy', mmap_mode='r')\n",
    "ex15_KNN = np.load('EPA73_testing_KNN5fill_ex15_without_mou.npy', mmap_mode='r')\n",
    "ex20_KNN = np.load('EPA73_testing_KNN5fill_ex20_without_mou.npy', mmap_mode='r')\n",
    "\n",
    "station_coordinate = pd.read_csv('RandomTesting/station_coordinate')\n",
    "ex5_lst = np.load('RandomTesting/extract5_list.npy')\n",
    "ex10_lst = np.load('RandomTesting/extract10_list.npy')\n",
    "ex15_lst = np.load('RandomTesting/extract15_list.npy')\n",
    "ex20_lst = np.load('RandomTesting/extract20_list.npy')"
   ]
  },
  {
   "cell_type": "code",
   "execution_count": null,
   "metadata": {
    "ExecuteTime": {
     "end_time": "2020-12-28T13:28:54.211846Z",
     "start_time": "2020-12-28T13:10:10.731181Z"
    },
    "scrolled": true
   },
   "outputs": [],
   "source": [
    "total_mse, total_mae, total_mape = ([] for _ in range(3))\n",
    "for i in tqdm(range(30)):\n",
    "    _ ,lats_ex5,lons_ex5=Random_Testing(1,i,station_coordinate, EPA73_test_pm25, ex5_lst, ex10_lst, ex15_lst, ex20_lst)\n",
    "    mse, mae, mape = calculate_extract_loss(ex5_KNN[i], EPA73_test_pm25[:,:,:,0], lats_ex5, lons_ex5)\n",
    "    total_mse.append(mse)\n",
    "    total_mae.append(mae)\n",
    "    total_mape.append(mape)\n",
    "print('extract5 mean :',np.mean(total_mse),np.mean(total_mae),np.mean(total_mape))"
   ]
  },
  {
   "cell_type": "code",
   "execution_count": null,
   "metadata": {
    "ExecuteTime": {
     "end_time": "2020-12-28T13:56:17.886056Z",
     "start_time": "2020-12-28T13:28:56.088535Z"
    }
   },
   "outputs": [],
   "source": [
    "total_mse, total_mae, total_mape = ([] for _ in range(3))\n",
    "for i in tqdm(range(30)):\n",
    "    _ ,lats_ex10,lons_ex10=Random_Testing(2,i,station_coordinate, EPA73_test_pm25, ex5_lst, ex10_lst, ex15_lst, ex20_lst)\n",
    "    mse, mae, mape = calculate_extract_loss(ex10_KNN[i], EPA73_test_pm25[:,:,:,0], lats_ex10, lons_ex10)\n",
    "    total_mse.append(mse)\n",
    "    total_mae.append(mae)\n",
    "    total_mape.append(mape)\n",
    "print('extract10 mean :',np.mean(total_mse),np.mean(total_mae),np.mean(total_mape))"
   ]
  },
  {
   "cell_type": "code",
   "execution_count": null,
   "metadata": {
    "ExecuteTime": {
     "end_time": "2020-12-28T14:21:47.289008Z",
     "start_time": "2020-12-28T13:56:19.329770Z"
    }
   },
   "outputs": [],
   "source": [
    "total_mse, total_mae, total_mape = ([] for _ in range(3))\n",
    "for i in tqdm(range(30)):\n",
    "    _ ,lats_ex15,lons_ex15=Random_Testing(3,i,station_coordinate, EPA73_test_pm25, ex5_lst, ex10_lst, ex15_lst, ex20_lst)\n",
    "    mse, mae, mape = calculate_extract_loss(ex15_KNN[i], EPA73_test_pm25[:,:,:,0], lats_ex15, lons_ex15)\n",
    "    total_mse.append(mse)\n",
    "    total_mae.append(mae)\n",
    "    total_mape.append(mape)\n",
    "print('extract15 mean :',np.mean(total_mse),np.mean(total_mae),np.mean(total_mape))"
   ]
  },
  {
   "cell_type": "code",
   "execution_count": null,
   "metadata": {
    "ExecuteTime": {
     "end_time": "2020-12-28T14:27:06.351807Z",
     "start_time": "2020-12-28T14:21:48.503536Z"
    }
   },
   "outputs": [],
   "source": [
    "total_mse, total_mae, total_mape = ([] for _ in range(3))\n",
    "for i in tqdm(range(30)):\n",
    "    _ ,lats_ex20,lons_ex20=Random_Testing(4,i,station_coordinate, EPA73_test_pm25, ex5_lst, ex10_lst, ex15_lst, ex20_lst)\n",
    "    mse, mae, mape = calculate_extract_loss(ex20_KNN[i], EPA73_test_pm25[:,:,:,0], lats_ex20, lons_ex20)\n",
    "    total_mse.append(mse)\n",
    "    total_mae.append(mae)\n",
    "    total_mape.append(mape)\n",
    "print('extract20 mean :',np.mean(total_mse),np.mean(total_mae),np.mean(total_mape))"
   ]
  },
  {
   "cell_type": "markdown",
   "metadata": {},
   "source": [
    "# KNN7 BaseLine"
   ]
  },
  {
   "cell_type": "code",
   "execution_count": null,
   "metadata": {
    "ExecuteTime": {
     "end_time": "2021-01-02T15:43:48.571366Z",
     "start_time": "2021-01-02T15:43:48.355986Z"
    }
   },
   "outputs": [],
   "source": [
    "EPA73_test_pm25 = np.load('../Data/EPA73_Testing_348X204_PM25.npy', mmap_mode='r')[:3000]\n",
    "ex5_KNN = np.load('EPA73_testing_KNN7fill_ex5_without_mou.npy', mmap_mode='r')\n",
    "ex10_KNN = np.load('EPA73_testing_KNN7fill_ex10_without_mou.npy', mmap_mode='r')\n",
    "ex15_KNN = np.load('EPA73_testing_KNN7fill_ex15_without_mou.npy', mmap_mode='r')\n",
    "ex20_KNN = np.load('EPA73_testing_KNN7fill_ex20_without_mou.npy', mmap_mode='r')\n",
    "\n",
    "station_coordinate = pd.read_csv('RandomTesting/station_coordinate')\n",
    "ex5_lst = np.load('RandomTesting/extract5_list.npy')\n",
    "ex10_lst = np.load('RandomTesting/extract10_list.npy')\n",
    "ex15_lst = np.load('RandomTesting/extract15_list.npy')\n",
    "ex20_lst = np.load('RandomTesting/extract20_list.npy')"
   ]
  },
  {
   "cell_type": "code",
   "execution_count": null,
   "metadata": {
    "ExecuteTime": {
     "end_time": "2021-01-02T16:01:49.512865Z",
     "start_time": "2021-01-02T15:43:49.052373Z"
    }
   },
   "outputs": [],
   "source": [
    "total_mse, total_mae, total_mape = ([] for _ in range(3))\n",
    "for i in tqdm(range(30)):\n",
    "    _ ,lats_ex5,lons_ex5=Random_Testing(1,i,station_coordinate, EPA73_test_pm25, ex5_lst, ex10_lst, ex15_lst, ex20_lst)\n",
    "    mse, mae, mape = calculate_extract_loss(ex5_KNN[i], EPA73_test_pm25[:,:,:,0], lats_ex5, lons_ex5)\n",
    "    total_mse.append(mse)\n",
    "    total_mae.append(mae)\n",
    "    total_mape.append(mape)\n",
    "print('extract5 mean :',np.mean(total_mse),np.mean(total_mae),np.mean(total_mape))"
   ]
  },
  {
   "cell_type": "code",
   "execution_count": null,
   "metadata": {
    "ExecuteTime": {
     "end_time": "2021-01-02T16:38:53.788868Z",
     "start_time": "2021-01-02T16:01:50.110180Z"
    }
   },
   "outputs": [],
   "source": [
    "total_mse, total_mae, total_mape = ([] for _ in range(3))\n",
    "for i in tqdm(range(30)):\n",
    "    _ ,lats_ex10,lons_ex10=Random_Testing(2,i,station_coordinate, EPA73_test_pm25, ex5_lst, ex10_lst, ex15_lst, ex20_lst)\n",
    "    mse, mae, mape = calculate_extract_loss(ex10_KNN[i], EPA73_test_pm25[:,:,:,0], lats_ex10, lons_ex10)\n",
    "    total_mse.append(mse)\n",
    "    total_mae.append(mae)\n",
    "    total_mape.append(mape)\n",
    "print('extract10 mean :',np.mean(total_mse),np.mean(total_mae),np.mean(total_mape))"
   ]
  },
  {
   "cell_type": "code",
   "execution_count": null,
   "metadata": {
    "ExecuteTime": {
     "end_time": "2021-01-02T17:14:46.754747Z",
     "start_time": "2021-01-02T16:38:54.390909Z"
    }
   },
   "outputs": [],
   "source": [
    "total_mse, total_mae, total_mape = ([] for _ in range(3))\n",
    "for i in tqdm(range(30)):\n",
    "    _ ,lats_ex15,lons_ex15=Random_Testing(3,i,station_coordinate, EPA73_test_pm25, ex5_lst, ex10_lst, ex15_lst, ex20_lst)\n",
    "    mse, mae, mape = calculate_extract_loss(ex15_KNN[i], EPA73_test_pm25[:,:,:,0], lats_ex15, lons_ex15)\n",
    "    total_mse.append(mse)\n",
    "    total_mae.append(mae)\n",
    "    total_mape.append(mape)\n",
    "print('extract15 mean :',np.mean(total_mse),np.mean(total_mae),np.mean(total_mape))"
   ]
  },
  {
   "cell_type": "code",
   "execution_count": null,
   "metadata": {
    "ExecuteTime": {
     "end_time": "2021-01-02T17:56:00.125358Z",
     "start_time": "2021-01-02T17:14:47.241740Z"
    }
   },
   "outputs": [],
   "source": [
    "total_mse, total_mae, total_mape = ([] for _ in range(3))\n",
    "for i in tqdm(range(30)):\n",
    "    _ ,lats_ex20,lons_ex20=Random_Testing(4,i,station_coordinate, EPA73_test_pm25, ex5_lst, ex10_lst, ex15_lst, ex20_lst)\n",
    "    mse, mae, mape = calculate_extract_loss(ex20_KNN[i], EPA73_test_pm25[:,:,:,0], lats_ex20, lons_ex20)\n",
    "    total_mse.append(mse)\n",
    "    total_mae.append(mae)\n",
    "    total_mape.append(mape)\n",
    "print('extract20 mean :',np.mean(total_mse),np.mean(total_mae),np.mean(total_mape))"
   ]
  },
  {
   "cell_type": "code",
   "execution_count": null,
   "metadata": {},
   "outputs": [],
   "source": []
  }
 ],
 "metadata": {
  "kernelspec": {
   "display_name": "Python 3",
   "language": "python",
   "name": "python3"
  },
  "language_info": {
   "codemirror_mode": {
    "name": "ipython",
    "version": 3
   },
   "file_extension": ".py",
   "mimetype": "text/x-python",
   "name": "python",
   "nbconvert_exporter": "python",
   "pygments_lexer": "ipython3",
   "version": "3.6.8"
  },
  "varInspector": {
   "cols": {
    "lenName": 16,
    "lenType": 16,
    "lenVar": 40
   },
   "kernels_config": {
    "python": {
     "delete_cmd_postfix": "",
     "delete_cmd_prefix": "del ",
     "library": "var_list.py",
     "varRefreshCmd": "print(var_dic_list())"
    },
    "r": {
     "delete_cmd_postfix": ") ",
     "delete_cmd_prefix": "rm(",
     "library": "var_list.r",
     "varRefreshCmd": "cat(var_dic_list()) "
    }
   },
   "types_to_exclude": [
    "module",
    "function",
    "builtin_function_or_method",
    "instance",
    "_Feature"
   ],
   "window_display": false
  }
 },
 "nbformat": 4,
 "nbformat_minor": 2
}
